{
 "cells": [
  {
   "cell_type": "markdown",
   "metadata": {},
   "source": [
    "Q1: How to install python packages?"
   ]
  },
  {
   "cell_type": "markdown",
   "metadata": {},
   "source": [
    "1. The recent version of python that has been launched recently is Python 3.7.3.\n",
    "2. In my system python37 is in the directory \"C:\\Users\\Dhruba\\AppData\\Local\\Programs\\Python\\Python37-32\"\n",
    "3. To install any packages one has to go to the directory \"C:\\Users\\Dhruba\\AppData\\Local\\Programs\\Python\\Python37-32\\Scripts\" using coommand prompt."
   ]
  },
  {
   "cell_type": "raw",
   "metadata": {},
   "source": [
    "pip install <package name >\n",
    "Example: pip install numpy \n",
    "         pip insyall numpy == 1.16.0"
   ]
  },
  {
   "cell_type": "code",
   "execution_count": null,
   "metadata": {},
   "outputs": [],
   "source": []
  }
 ],
 "metadata": {
  "kernelspec": {
   "display_name": "Python 2",
   "language": "python",
   "name": "python2"
  },
  "language_info": {
   "codemirror_mode": {
    "name": "ipython",
    "version": 2
   },
   "file_extension": ".py",
   "mimetype": "text/x-python",
   "name": "python",
   "nbconvert_exporter": "python",
   "pygments_lexer": "ipython2",
   "version": "2.7.14"
  }
 },
 "nbformat": 4,
 "nbformat_minor": 2
}
